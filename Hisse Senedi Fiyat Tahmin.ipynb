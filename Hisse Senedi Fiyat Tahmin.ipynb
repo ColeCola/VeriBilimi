{
 "cells": [
  {
   "cell_type": "code",
   "execution_count": 1,
   "metadata": {},
   "outputs": [
    {
     "name": "stdout",
     "output_type": "stream",
     "text": [
      "Collecting stockai\n",
      "  Using cached https://files.pythonhosted.org/packages/b6/f3/d0f47064370c48cf93e1e2207ccd68c51c2630287d8479aaafbdffba87aa/stockai-0.0.4-py3-none-any.whl\n",
      "Collecting ciso8601 (from stockai)\n",
      "Requirement already satisfied: requests in ./anaconda3/lib/python3.7/site-packages (from stockai) (2.21.0)\n",
      "Requirement already satisfied: idna<2.9,>=2.5 in ./anaconda3/lib/python3.7/site-packages (from requests->stockai) (2.8)\n",
      "Requirement already satisfied: certifi>=2017.4.17 in ./anaconda3/lib/python3.7/site-packages (from requests->stockai) (2018.11.29)\n",
      "Requirement already satisfied: chardet<3.1.0,>=3.0.2 in ./anaconda3/lib/python3.7/site-packages (from requests->stockai) (3.0.4)\n",
      "Requirement already satisfied: urllib3<1.25,>=1.21.1 in ./anaconda3/lib/python3.7/site-packages (from requests->stockai) (1.24.1)\n",
      "Installing collected packages: ciso8601, stockai\n",
      "Successfully installed ciso8601-2.1.1 stockai-0.0.4\n"
     ]
    }
   ],
   "source": [
    "!pip install stockai"
   ]
  },
  {
   "cell_type": "code",
   "execution_count": 2,
   "metadata": {},
   "outputs": [],
   "source": [
    "\n",
    "import numpy as np\n",
    "from sklearn.svm import SVR \n",
    "import matplotlib.pyplot as plt \n",
    "import pandas as pd \n",
    "\n",
    "%matplotlib inline"
   ]
  },
  {
   "cell_type": "code",
   "execution_count": 3,
   "metadata": {},
   "outputs": [
    {
     "data": {
      "text/html": [
       "<div>\n",
       "<style scoped>\n",
       "    .dataframe tbody tr th:only-of-type {\n",
       "        vertical-align: middle;\n",
       "    }\n",
       "\n",
       "    .dataframe tbody tr th {\n",
       "        vertical-align: top;\n",
       "    }\n",
       "\n",
       "    .dataframe thead th {\n",
       "        text-align: right;\n",
       "    }\n",
       "</style>\n",
       "<table border=\"1\" class=\"dataframe\">\n",
       "  <thead>\n",
       "    <tr style=\"text-align: right;\">\n",
       "      <th></th>\n",
       "      <th>low</th>\n",
       "      <th>close</th>\n",
       "      <th>high</th>\n",
       "      <th>open</th>\n",
       "      <th>volume</th>\n",
       "      <th>date</th>\n",
       "      <th>adjclose</th>\n",
       "    </tr>\n",
       "  </thead>\n",
       "  <tbody>\n",
       "    <tr>\n",
       "      <th>0</th>\n",
       "      <td>67.610001</td>\n",
       "      <td>67.860001</td>\n",
       "      <td>68.180000</td>\n",
       "      <td>68.070000</td>\n",
       "      <td>3002600</td>\n",
       "      <td>2018-12-31</td>\n",
       "      <td>67.189606</td>\n",
       "    </tr>\n",
       "    <tr>\n",
       "      <th>1</th>\n",
       "      <td>67.120003</td>\n",
       "      <td>68.250000</td>\n",
       "      <td>68.430000</td>\n",
       "      <td>67.510002</td>\n",
       "      <td>3930300</td>\n",
       "      <td>2019-01-02</td>\n",
       "      <td>67.575752</td>\n",
       "    </tr>\n",
       "    <tr>\n",
       "      <th>2</th>\n",
       "      <td>67.120003</td>\n",
       "      <td>67.300003</td>\n",
       "      <td>68.110001</td>\n",
       "      <td>68.110001</td>\n",
       "      <td>5407700</td>\n",
       "      <td>2019-01-03</td>\n",
       "      <td>66.635139</td>\n",
       "    </tr>\n",
       "    <tr>\n",
       "      <th>3</th>\n",
       "      <td>67.669998</td>\n",
       "      <td>67.980003</td>\n",
       "      <td>68.150002</td>\n",
       "      <td>68.000000</td>\n",
       "      <td>5103400</td>\n",
       "      <td>2019-01-04</td>\n",
       "      <td>67.308418</td>\n",
       "    </tr>\n",
       "    <tr>\n",
       "      <th>4</th>\n",
       "      <td>67.449997</td>\n",
       "      <td>67.690002</td>\n",
       "      <td>68.589996</td>\n",
       "      <td>68.589996</td>\n",
       "      <td>5907000</td>\n",
       "      <td>2019-01-07</td>\n",
       "      <td>67.021286</td>\n",
       "    </tr>\n",
       "  </tbody>\n",
       "</table>\n",
       "</div>"
      ],
      "text/plain": [
       "         low      close       high       open   volume        date   adjclose\n",
       "0  67.610001  67.860001  68.180000  68.070000  3002600  2018-12-31  67.189606\n",
       "1  67.120003  68.250000  68.430000  67.510002  3930300  2019-01-02  67.575752\n",
       "2  67.120003  67.300003  68.110001  68.110001  5407700  2019-01-03  66.635139\n",
       "3  67.669998  67.980003  68.150002  68.000000  5103400  2019-01-04  67.308418\n",
       "4  67.449997  67.690002  68.589996  68.589996  5907000  2019-01-07  67.021286"
      ]
     },
     "execution_count": 3,
     "metadata": {},
     "output_type": "execute_result"
    }
   ],
   "source": [
    "\n",
    "from stockai import Stock\n",
    "\n",
    "td = Stock('TD.TO')\n",
    "prices_list = td.get_historical_prices('2019-01-01', '2019-01-30')\n",
    "\n",
    "df = pd.DataFrame.from_dict(prices_list)\n",
    "df.head()"
   ]
  },
  {
   "cell_type": "code",
   "execution_count": 4,
   "metadata": {},
   "outputs": [],
   "source": [
    "def get_data(df):  \n",
    "    data = df.copy()\n",
    "    data['date'] = data['date'].str.split('-').str[2]\n",
    "    data['date'] = pd.to_numeric(data['date'])\n",
    "    return [ data['date'].tolist(), data['close'].tolist() ] # Convert Series to list"
   ]
  },
  {
   "cell_type": "code",
   "execution_count": 5,
   "metadata": {},
   "outputs": [],
   "source": [
    "dates, prices = get_data(df)"
   ]
  },
  {
   "cell_type": "code",
   "execution_count": 6,
   "metadata": {},
   "outputs": [
    {
     "name": "stdout",
     "output_type": "stream",
     "text": [
      "[31, 2, 3, 4, 7, 8, 9, 10, 11, 14, 15, 16, 17, 18, 21, 22, 23, 24, 25, 28, 29] [67.86000061035156, 68.25, 67.30000305175781, 67.9800033569336, 67.69000244140625, 67.81999969482422, 68.13999938964844, 68.80000305175781, 68.86000061035156, 68.6500015258789, 69.33000183105469, 70.62999725341797, 71.33999633789062, 72.33999633789062, 72.9000015258789, 72.41000366210938, 72.19999694824219, 72.66000366210938, 72.83000183105469, 73.16999816894531, 73.70999908447266]\n"
     ]
    }
   ],
   "source": [
    "print(dates, prices)"
   ]
  },
  {
   "cell_type": "code",
   "execution_count": 7,
   "metadata": {},
   "outputs": [],
   "source": [
    "\n",
    "def predict_prices(dates, prices, x):\n",
    "    dates = np.reshape(dates,(len(dates), 1)) # convert to 1xn dimension\n",
    "    x = np.reshape(x,(len(x), 1))\n",
    "    \n",
    "    svr_lin  = SVR(kernel='linear', C=1e3)\n",
    "    svr_poly = SVR(kernel='poly', C=1e3, degree=2)\n",
    "    svr_rbf = SVR(kernel='rbf', C=1e3, gamma=0.1)\n",
    "    \n",
    "    # Fit regression model\n",
    "    svr_lin .fit(dates, prices)\n",
    "    svr_poly.fit(dates, prices)\n",
    "    svr_rbf.fit(dates, prices)\n",
    "    \n",
    "    plt.scatter(dates, prices, c='k', label='Data')\n",
    "    plt.plot(dates, svr_lin.predict(dates), c='g', label='Linear model')\n",
    "    plt.plot(dates, svr_rbf.predict(dates), c='r', label='RBF model')    \n",
    "    plt.plot(dates, svr_poly.predict(dates), c='b', label='Polynomial model')\n",
    "    \n",
    "    plt.xlabel('Date')\n",
    "    plt.ylabel('Price')\n",
    "    plt.title('Support Vector Regression')\n",
    "    plt.legend()\n",
    "    plt.show()\n",
    "    \n",
    "    return svr_rbf.predict(x)[0], svr_lin.predict(x)[0], svr_poly.predict(x)[0]"
   ]
  },
  {
   "cell_type": "code",
   "execution_count": 8,
   "metadata": {},
   "outputs": [
    {
     "name": "stderr",
     "output_type": "stream",
     "text": [
      "/Users/saitalay/anaconda3/lib/python3.7/site-packages/sklearn/svm/base.py:196: FutureWarning: The default value of gamma will change from 'auto' to 'scale' in version 0.22 to account better for unscaled features. Set gamma explicitly to 'auto' or 'scale' to avoid this warning.\n",
      "  \"avoid this warning.\", FutureWarning)\n"
     ]
    },
    {
     "data": {
      "image/png": "[encoded data removed]",
      "text/plain": [
       "<Figure size 432x288 with 1 Axes>"
      ]
     },
     "metadata": {
      "needs_background": "light"
     },
     "output_type": "display_data"
    }
   ],
   "source": [
    "predicted_price = predict_prices(dates, prices, [31])"
   ]
  },
  {
   "cell_type": "code",
   "execution_count": 9,
   "metadata": {},
   "outputs": [
    {
     "data": {
      "text/plain": [
       "(67.95989249829424, 74.23818331634382, 75.30920098100313)"
      ]
     },
     "execution_count": 9,
     "metadata": {},
     "output_type": "execute_result"
    }
   ],
   "source": [
    "predicted_price"
   ]
  },
  {
   "cell_type": "code",
   "execution_count": null,
   "metadata": {},
   "outputs": [],
   "source": []
  }
 ],
 "metadata": {
  "kernelspec": {
   "display_name": "Python 3",
   "language": "python",
   "name": "python3"
  },
  "language_info": {
   "codemirror_mode": {
    "name": "ipython",
    "version": 3
   },
   "file_extension": ".py",
   "mimetype": "text/x-python",
   "name": "python",
   "nbconvert_exporter": "python",
   "pygments_lexer": "ipython3",
   "version": "3.7.1"
  }
 },
 "nbformat": 4,
 "nbformat_minor": 2
}
